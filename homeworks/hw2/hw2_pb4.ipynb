{
 "cells": [
  {
   "cell_type": "code",
   "execution_count": 1,
   "metadata": {},
   "outputs": [],
   "source": [
    "import numpy as np\n",
    "import matplotlib.pyplot as plt\n",
    "from pykalman import KalmanFilter\n",
    "from scipy.stats import multivariate_normal\n",
    "from math import sqrt\n",
    "import seaborn as sns\n",
    "from numpy import linalg as LA\n",
    "import matplotlib.ticker as ticker\n",
    "import pandas as pd"
   ]
  },
  {
   "cell_type": "code",
   "execution_count": 2,
   "metadata": {},
   "outputs": [],
   "source": [
    "pd.set_option('precision', 5)\n",
    "pd.options.display.float_format = '{:1.5f}'.format"
   ]
  },
  {
   "cell_type": "code",
   "execution_count": 3,
   "metadata": {},
   "outputs": [],
   "source": [
    "class MyKalmanFilter:\n",
    "    \"\"\"\n",
    "    Class that implements the Kalman Filter\n",
    "    \"\"\"\n",
    "    def __init__(self, n_dim_state=2, n_dim_obs=2):\n",
    "        \"\"\"\n",
    "        @param n_dim_state: dimension of the laten variables\n",
    "        @param n_dim_obs: dimension of the observed variables\n",
    "        \"\"\"\n",
    "        self.n_dim_state = n_dim_state\n",
    "        self.n_dim_obs = n_dim_obs\n",
    "        self.transition_matrices = np.eye(n_dim_state)\n",
    "        self.transition_covariance = np.eye(n_dim_state)\n",
    "        self.observation_matrices = np.eye(n_dim_obs, n_dim_state)\n",
    "        self.observation_covariance = np.eye(n_dim_obs)\n",
    "        self.initial_state_mean = np.zeros(n_dim_state)\n",
    "        self.initial_state_covariance = np.eye(n_dim_state)\n",
    "        \n",
    "        \n",
    "    def sample(self, n_timesteps, initial_state=None, random_seed=None):\n",
    "        \"\"\"\n",
    "        Method that gives samples\n",
    "        @param initial_state: numpy array whose length == self.n_dim_state\n",
    "        @param random_seed: an integer, for test purpose\n",
    "        @output state: a 2d numpy array with dimension [n_timesteps, self.n_dim_state]\n",
    "        @output observation: a 2d numpy array with dimension [n_timesteps, self.n_dim_obs]\n",
    "        \"\"\"\n",
    "        \n",
    "        if random_seed is not None:\n",
    "            np.random.seed(random_seed)\n",
    "            \n",
    "        latent_state = np.zeros([n_timesteps, self.n_dim_state])\n",
    "        observed_state = np.zeros([n_timesteps, self.n_dim_obs])\n",
    "        \n",
    "        ################\n",
    "        ##### TODO #####\n",
    "        ################\n",
    "        # produce samples\n",
    "        \n",
    "        latent_state[0] = initial_state\n",
    "        observed_state[0] = np.matmul(self.observation_matrices, latent_state[0]) + \\\n",
    "                np.random.multivariate_normal(np.zeros(self.n_dim_obs), self.observation_covariance)\n",
    "        \n",
    "        for i in range(1, n_timesteps):\n",
    "            latent_state[i] = np.matmul(self.transition_matrices, latent_state[i-1]) + \\\n",
    "                np.random.multivariate_normal(np.zeros(self.n_dim_state), self.transition_covariance)\n",
    "            observed_state[i] = np.matmul(self.observation_matrices, latent_state[i]) + \\\n",
    "                np.random.multivariate_normal(np.zeros(self.n_dim_obs), self.observation_covariance)\n",
    "        \n",
    "        return latent_state, observed_state\n",
    "\n",
    "\n",
    "    def filter(self, X):\n",
    "        \"\"\"\n",
    "        Method that performs Kalman filtering\n",
    "        @param X: a numpy 2D array whose dimension is [n_example, self.n_dim_obs]\n",
    "        @output: filtered_state_means: a numpy 2D array whose dimension is [n_example, self.n_dim_state]\n",
    "        @output: filtered_state_covariances: a numpy 3D array whose dimension is [n_example, self.n_dim_state, self.n_dim_state]\n",
    "        \"\"\"\n",
    "        \n",
    "        # validate inputs\n",
    "        n_example, observed_dim = X.shape\n",
    "        assert observed_dim==self.n_dim_obs\n",
    "        \n",
    "        # create holders for outputs\n",
    "        filtered_state_means = np.zeros( (n_example, self.n_dim_state) )\n",
    "        filtered_state_covariances = np.zeros( (n_example, self.n_dim_state, self.n_dim_state) )\n",
    "        \n",
    "        # TODO: implement filtering\n",
    "        \n",
    "        # the first state mean and state covar is the initial epectation\n",
    "        filtered_state_means[0] = self.initial_state_mean\n",
    "        filtered_state_covariances[0] = self.initial_state_covariance\n",
    "        \n",
    "        # initialize internal variables\n",
    "        current_state_mean = self.initial_state_mean.copy()\n",
    "        current_state_covar = self.initial_state_covariance.copy()\n",
    "        self.p_n_list = np.zeros((n_example, self.n_dim_obs, self.n_dim_obs))\n",
    "        self.kalman_gains = np.zeros( (n_example, self.n_dim_state, self.n_dim_state) )\n",
    "        for i in range(1, n_example):\n",
    "            current_observed_data = X[i,:]\n",
    "            # run a single step forward filter\n",
    "            # prediction step\n",
    "            predicted_state_mean = np.dot(self.transition_matrices, current_state_mean)\n",
    "            predicted_state_cov = np.matmul(np.matmul(self.transition_matrices, current_state_covar),np.transpose(self.transition_matrices)) + self.transition_covariance\n",
    "            # observation step\n",
    "            innovation = current_observed_data - np.dot(self.observation_matrices, predicted_state_mean)\n",
    "            innovation_covariance = np.matmul(np.matmul(self.observation_matrices, predicted_state_cov), np.transpose(self.observation_matrices)) + self.observation_covariance\n",
    "            # update step\n",
    "            kalman_gain = np.matmul(np.matmul(predicted_state_cov, np.transpose(self.observation_matrices)), np.linalg.inv(innovation_covariance))\n",
    "            self.kalman_gains[i] = kalman_gain\n",
    "            current_state_mean = predicted_state_mean + np.dot(kalman_gain, innovation)\n",
    "            current_state_covar = np.matmul( (np.eye(current_state_covar.shape[0])- \n",
    "                                              np.matmul(kalman_gain,self.observation_matrices)), predicted_state_cov)\n",
    "            # populate holders\n",
    "            filtered_state_means[i, :] = current_state_mean\n",
    "            filtered_state_covariances[i, :, :] = current_state_covar\n",
    "            self.p_n_list[i, :, :] = predicted_state_cov\n",
    "        return filtered_state_means, filtered_state_covariances\n",
    "    \n",
    "    def smooth(self, X):\n",
    "        \"\"\"\n",
    "        Method that performs the Kalman Smoothing\n",
    "        @param X: a numpy 2D array whose dimension is [n_example, self.n_dim_obs]\n",
    "        @output: smoothed_state_means: a numpy 2D array whose dimension is [n_example, self.n_dim_state]\n",
    "        @output: smoothed_state_covariances: a numpy 3D array whose dimension is [n_example, self.n_dim_state, self.n_dim_state]\n",
    "        \"\"\"\n",
    "        # validate inputs\n",
    "        n_example, observed_dim = X.shape\n",
    "        assert observed_dim==self.n_dim_obs\n",
    "        \n",
    "        # init for EM\n",
    "        self.f_list = []\n",
    "        \n",
    "        # run the forward path\n",
    "        mu_list, v_list = self.filter(X)\n",
    "        \n",
    "        # create holders for outputs\n",
    "        smoothed_state_means = np.zeros( (n_example, self.n_dim_state) )\n",
    "        smoothed_state_covariances = np.zeros( (n_example, self.n_dim_state, self.n_dim_state) )\n",
    "        \n",
    "        # last time step doesn't need to be updated\n",
    "        smoothed_state_means[-1, :] = mu_list[-1, :]\n",
    "        smoothed_state_covariances[-1, :, :] = v_list[-1, :, :]\n",
    "        \n",
    "        # run the backward path\n",
    "        # it's zero-indexed and we don't need to update the last elements\n",
    "        for i in range(n_example-2, -1, -1):\n",
    "            # used to store intermediate results \n",
    "            p_i = np.copy(self.p_n_list[i+1, :, :]) # ALTERNATIVELY compute new: np.matmul(np.matmul(self.transition_matrices, v_list[i,:,:]), self.transition_matrices.T) + self.transition_covariance\n",
    "            j_i = np.matmul(np.matmul(v_list[i,:,:], self.transition_matrices.T), np.linalg.inv(p_i))\n",
    "            \n",
    "            # calculate mu_bar and v_bar\n",
    "            current_smoothed_mean = mu_list[i, :] + np.matmul(j_i, (smoothed_state_means[i+1, :] - np.matmul(self.transition_matrices, mu_list[i, :])))\n",
    "            current_smoothed_covar = v_list[i,:] + np.matmul(np.matmul(j_i, ( smoothed_state_covariances[i+1, :, :] - p_i)), j_i.T)\n",
    "            # propagate the holders\n",
    "            smoothed_state_means[i, :] = current_smoothed_mean\n",
    "            smoothed_state_covariances[i, :, :] = current_smoothed_covar\n",
    "            # note that j_n is REVERSELY propagated from N-2 to 0 (zero-indexed)\n",
    "            self.f_list.append(j_i)\n",
    "        # add the last j_n\n",
    "        p_N = np.matmul(np.matmul(self.transition_matrices, v_list[-1,:,:]), np.linalg.inv(self.transition_matrices)) + self.transition_covariance\n",
    "        j_N = np.matmul(np.matmul(v_list[-1,:,:], self.transition_matrices.T), np.linalg.inv(p_N))\n",
    "        self.f_list = list(reversed(self.f_list))\n",
    "        self.f_list.append(j_N)\n",
    "            \n",
    "        return smoothed_state_means, smoothed_state_covariances   \n",
    "\n",
    "    def em(self, X, max_iter=10):\n",
    "        \"\"\"\n",
    "        This part is OPTIONAL\n",
    "        Method that perform the EM algorithm to update the model parameters\n",
    "        Note that in this exercise we ignore offsets\n",
    "        @param X: a numpy 2D array whose dimension is [n_example, self.n_dim_obs]\n",
    "        @param max_iter: an integer indicating how many iterations to run\n",
    "        \"\"\"\n",
    "        # validate inputs have right dimensions\n",
    "        n_example, observed_dim = X.shape\n",
    "        assert observed_dim==self.n_dim_obs\n",
    "        \n",
    "        # keep track of log posterior (use function calculate_posterior below)\n",
    "        self.avg_em_log_posterior = np.zeros(max_iter)*np.nan   \n",
    "  \n",
    "        #############################\n",
    "        #### TODO: EM iterations ####\n",
    "        #############################\n",
    "        \n",
    "        for i_iter in range(max_iter):\n",
    "            \n",
    "            #1. Expectation Step\n",
    "            # Smooth step\n",
    "            \n",
    "            smoothed_state_means, smoothed_state_covariances = self.smooth(X)\n",
    "            self.avg_em_log_posterior[i_iter] = np.nanmean(self.calculate_posterior(X, smoothed_state_means))\n",
    "            \n",
    "            \n",
    "            # Update initial states and initial covariance\n",
    "            self.initial_state_mean = smoothed_state_means[0]\n",
    "            self.initial_state_covariance = smoothed_state_covariances[0]    \n",
    "\n",
    "            self.e_zn = []\n",
    "            self.e_zn_znminus = []\n",
    "            self.e_zn_zn = []\n",
    "            # Compute E[z], E[zz] and E[zz_1]\n",
    "            for i in range(n_example):\n",
    "                self.e_zn.append(smoothed_state_means[i])\n",
    "                self.e_zn_zn.append(smoothed_state_covariances[i] + \n",
    "                                    np.outer(smoothed_state_means[i], smoothed_state_means[i]))\n",
    "                if i != 0:\n",
    "                    self.e_zn_znminus.append(np.matmul(self.f_list[i-1], smoothed_state_covariances[i]) + \\\n",
    "                                            np.outer(smoothed_state_means[i], smoothed_state_means[i-1]))\n",
    "                    \n",
    "            # Maximization Step - Latent Dynamics\n",
    "            \n",
    "            # Compute Sum E[zz] and Sum E[zz_1]\n",
    "            ezzminus = np.zeros((self.n_dim_state, self.n_dim_state))\n",
    "            ezz = np.zeros((self.n_dim_state, self.n_dim_state))\n",
    "            for t in range(n_example-1):\n",
    "                ezzminus += self.e_zn_znminus[t]\n",
    "                ezz += self.e_zn_zn[t] \n",
    "            ezz += self.e_zn_zn[-1] \n",
    "                \n",
    "            # Compute Sum_{2:N}E[zz] and Sum_{1:N-1}E[zz]\n",
    "            ezz_minus_n = ezz - self.e_zn_zn[-1]\n",
    "            ezz_minus_1 = ezz - self.e_zn_zn[0]\n",
    "             \n",
    "            self.transition_matrices = np.matmul(ezzminus, np.linalg.pinv(ezz_minus_n))\n",
    "            ezzminus_tmp = np.matmul(ezz_minus_n, self.transition_matrices.T)\n",
    "            self.transition_covariance = ezz_minus_1 - np.matmul(self.transition_matrices, ezzminus)\n",
    "            - np.matmul(ezzminus, self.transition_matrices) + np.matmul(self.transition_matrices, ezzminus_tmp)\n",
    "            self.transition_covariance /= (n_example - 1) \n",
    "                 \n",
    "\n",
    "            #2. Maximization Step - Observations\n",
    "            # Compute observation and observation covariance matrices\n",
    "            x_zn = np.zeros((self.n_dim_obs, self.n_dim_obs))\n",
    "            for t in range(n_example):\n",
    "                x_zn += np.outer(X[t], self.e_zn[t])\n",
    "            \n",
    "            self.observation_matrices = np.matmul(x_zn, np.linalg.pinv(ezz.T))  \n",
    "\n",
    "            self.observation_covariance = np.zeros((self.n_dim_obs, self.n_dim_obs))\n",
    "            for t in range(n_example):\n",
    "                t1 = np.outer(X[t], X[t])\n",
    "                t2 = np.outer(self.e_zn[t], X[t])\n",
    "                t2 = np.matmul(self.observation_matrices, t2)\n",
    "                t3 = np.outer(X[t], self.e_zn[t])\n",
    "                t3 = np.matmul(t3, self.observation_matrices.T)\n",
    "                t4 = np.matmul(self.observation_matrices,\n",
    "                         np.matmul(self.e_zn_zn[t],\n",
    "                                self.observation_matrices.T))\n",
    "                self.observation_covariance += t1 -t2 -t3 + t4\n",
    "                \n",
    "            self.observation_covariance /= n_example\n",
    "\n",
    "    def import_param(self, kf_model):\n",
    "        \"\"\"\n",
    "        Method that copies parameters from a trained Kalman Model\n",
    "        @param kf_model: a Pykalman object\n",
    "        \"\"\"\n",
    "        need_params = ['transition_matrices', 'observation_matrices', 'transition_covariance', \n",
    "                  'observation_covariance', 'initial_state_mean', 'initial_state_covariance']\n",
    "        for param in need_params:\n",
    "            setattr(self, param, getattr(kf_model, param))\n",
    "            \n",
    "    def calculate_posterior(self, X, state_mean, v_n=None):\n",
    "        \"\"\"\n",
    "        Method that calculates the log posterior\n",
    "        @param X: a numpy 2D array whose dimension is [n_example, self.n_dim_obs]\n",
    "        @param state_mean: a numpy 2D array whose dimension is [n_example, self.n_dim_state]\n",
    "        @output: a numpy 1D array whose dimension is [n_example]\n",
    "        \"\"\"\n",
    "        \n",
    "        if v_n is None:\n",
    "            _, v_n = self.filter(X)\n",
    "        llh = []\n",
    "        for i in range(1,len(state_mean)):\n",
    "            normal_mean = np.dot(self.observation_matrices, np.dot(self.transition_matrices, state_mean[i-1]))\n",
    "            p_n = self.transition_matrices.dot(v_n[i].dot(self.transition_matrices))+self.transition_covariance\n",
    "            #normal_cov = np.matmul(self.observation_matrices, np.matmul(self.p_n_list[i], self.observation_matrices.T)) + self.observation_covariance\n",
    "            normal_cov = np.matmul(self.observation_matrices, np.matmul(p_n, self.observation_matrices.T)) + self.observation_covariance\n",
    "            pdf_val = multivariate_normal.pdf(X[i], normal_mean, normal_cov)\n",
    "            # replace 0 to prevent numerical underflow\n",
    "            if pdf_val < 1e-10:\n",
    "                pdf_val = 1e-10\n",
    "            llh.append(np.log(pdf_val))            \n",
    "        return np.array(llh)"
   ]
  },
  {
   "cell_type": "code",
   "execution_count": 4,
   "metadata": {},
   "outputs": [],
   "source": [
    "# Data Visualization\n",
    "def plot_kalman(x,y,nx,ny,kx=None,ky=None, plot_type=\"r-\", label=None, title='Parabola'):\n",
    "    \"\"\"\n",
    "    Plot the trajectory\n",
    "    \"\"\"\n",
    "    fig, ax = plt.subplots(1,2, figsize=(15,4))\n",
    "    if kx is not None and ky is not None:\n",
    "        ax[0].plot(x,y,'g-',nx,ny,'b.',kx,ky, plot_type)\n",
    "        ax[0].plot(kx[0], ky[0], 'or')\n",
    "        ax[0].plot(kx[-1], ky[-1], 'xr')\n",
    "        \n",
    "        ax[1].plot(x, kx, '.k', label='latent dim 1')\n",
    "        ax[1].plot(y, ky, '.', color='grey', label='latent dim 2')\n",
    "        ax[1].set_xlabel('real latent')\n",
    "        ax[1].set_ylabel('estimated latent')\n",
    "        ax[1].legend()\n",
    "    else:\n",
    "        ax[0].plot(x,y,'g-',nx,ny,'b.')\n",
    "        \n",
    "        ax[1].plot(x, nx, '.k', label='dim 1')\n",
    "        ax[1].plot(y, ny, '.', color='grey', label='dim 2')\n",
    "        ax[1].set_xlabel('latent')\n",
    "        ax[1].set_ylabel('observed')\n",
    "        ax[1].legend()\n",
    "\n",
    "    ax[0].set_xlabel('X position')\n",
    "    ax[0].set_ylabel('Y position')\n",
    "    ax[0].set_title(title)\n",
    "    ax[0].set_aspect(1)\n",
    "    ax[1].set_aspect(1)\n",
    "    \n",
    "    if kx is not None and ky is not None and label is not None:\n",
    "        ax[0].legend(('true','measured', label))\n",
    "    else:\n",
    "        ax[0].legend(('true','measured'))\n",
    "    \n",
    "    return fig\n",
    "    \n",
    "def visualize_line_plot(data, xlabel, ylabel, title):\n",
    "    \"\"\"\n",
    "    Function that visualizes a line plot\n",
    "    \"\"\"\n",
    "    plt.plot(data)\n",
    "    plt.xlabel(xlabel)\n",
    "    plt.ylabel(ylabel)\n",
    "    plt.title(title)\n",
    "    plt.show()\n",
    "    \n",
    "def print_parameters(kf_model, need_params=None, evals=False):\n",
    "    \"\"\"\n",
    "    Function that prints out the parameters for a Kalman Filter\n",
    "    @param - kf_model : the model object\n",
    "    @param - need_params : a list of string\n",
    "    \"\"\"\n",
    "    if evals:\n",
    "        if need_params is None:\n",
    "            need_params1 = ['transition_matrices', 'transition_covariance', 'observation_covariance', 'initial_state_covariance']\n",
    "            need_params2 = ['observation_matrices', 'initial_state_mean']\n",
    "        for param in need_params1: \n",
    "            tmp = np.linalg.eig(getattr(kf_model, param))[0]\n",
    "            print(\"{0} = {1}, shape = {2}\\n\".format(param, tmp, tmp.shape))\n",
    "        for param in need_params2: \n",
    "            print(\"{0} = {1}, shape = {2}\\n\".format(param, getattr(kf_model, param), getattr(kf_model, param).shape))\n",
    "    else:\n",
    "        if need_params is None:\n",
    "            need_params = ['transition_matrices', 'observation_matrices', 'transition_covariance', 'observation_covariance', \n",
    "                            'initial_state_mean', 'initial_state_covariance']\n",
    "        for param in need_params: \n",
    "            print(\"{0} = {1}, shape = {2}\\n\".format(param, getattr(kf_model, param), getattr(kf_model, param).shape))\n",
    "    "
   ]
  },
  {
   "cell_type": "code",
   "execution_count": 5,
   "metadata": {},
   "outputs": [],
   "source": [
    "n_dim_state = 2 # two states\n",
    "n_dim_obs = 2 # two observations\n",
    "transition_matrices = np.array([[0.65, 0.3],[0.2, 0.8]])\n",
    "observation_matrices = np.array([[1.1, 0.2], [0.5, 0.95]])\n",
    "initial_state_mean = np.zeros(n_dim_state)\n",
    "initial_state_covariance = 0.5 * np.eye(n_dim_state)\n",
    "transition_covariance = 0.1 * np.eye(n_dim_state)\n",
    "observation_covariance = 0.01 * np.eye(n_dim_obs)"
   ]
  },
  {
   "cell_type": "code",
   "execution_count": 6,
   "metadata": {},
   "outputs": [
    {
     "name": "stdout",
     "output_type": "stream",
     "text": [
      "transition_matrices = [[0.65 0.3 ]\n",
      " [0.2  0.8 ]], shape = (2, 2)\n",
      "\n",
      "observation_matrices = [[1.1  0.2 ]\n",
      " [0.5  0.95]], shape = (2, 2)\n",
      "\n",
      "transition_covariance = [[0.1 0. ]\n",
      " [0.  0.1]], shape = (2, 2)\n",
      "\n",
      "observation_covariance = [[0.01 0.  ]\n",
      " [0.   0.01]], shape = (2, 2)\n",
      "\n",
      "initial_state_mean = [0. 0.], shape = (2,)\n",
      "\n",
      "initial_state_covariance = [[0.5 0. ]\n",
      " [0.  0.5]], shape = (2, 2)\n",
      "\n"
     ]
    }
   ],
   "source": [
    "kf = MyKalmanFilter(n_dim_state=n_dim_state, n_dim_obs=n_dim_obs)\n",
    "# set paramters\n",
    "kf.transition_matrices = transition_matrices\n",
    "kf.transition_covariance = transition_covariance\n",
    "kf.observation_matrices = observation_matrices\n",
    "kf.observation_covariance = observation_covariance\n",
    "kf.initial_state_mean = initial_state_mean\n",
    "kf.initial_state_covariance = initial_state_covariance\n",
    "# print the parameters\n",
    "print_parameters(kf, evals=False)"
   ]
  },
  {
   "cell_type": "code",
   "execution_count": 7,
   "metadata": {},
   "outputs": [
    {
     "data": {
      "image/png": "[encoded data removed]",
      "text/plain": [
       "<Figure size 1080x288 with 2 Axes>"
      ]
     },
     "metadata": {
      "needs_background": "light"
     },
     "output_type": "display_data"
    }
   ],
   "source": [
    "n_points = 25\n",
    "sampled_states, sampled_observations = kf.sample(n_points, initial_state=kf.initial_state_mean, random_seed=0)\n",
    "fig = plot_kalman(sampled_states[:,0],sampled_observations[:,1],sampled_observations[:,0],sampled_observations[:,1], title=\"{} samples\".format(n_points));"
   ]
  },
  {
   "cell_type": "code",
   "execution_count": 8,
   "metadata": {},
   "outputs": [],
   "source": [
    "n_samples = sampled_observations.shape[0]"
   ]
  },
  {
   "cell_type": "code",
   "execution_count": 9,
   "metadata": {},
   "outputs": [
    {
     "data": {
      "image/png": "[encoded data removed]",
      "text/plain": [
       "<Figure size 1080x288 with 2 Axes>"
      ]
     },
     "metadata": {
      "needs_background": "light"
     },
     "output_type": "display_data"
    }
   ],
   "source": [
    "smoothed_state_means, smoothed_state_covariances = kf.smooth(sampled_observations)\n",
    "fig = plot_kalman(sampled_states[:,0],sampled_states[:,1],sampled_observations[:,0],sampled_observations[:,1], \n",
    "                  smoothed_state_means[:,0], smoothed_state_means[:,1], \"r-\", title=\"kf-impl-smooth\")\n",
    "plt.axis('square');"
   ]
  },
  {
   "cell_type": "code",
   "execution_count": 10,
   "metadata": {},
   "outputs": [],
   "source": [
    "def plot_mean_var_values(means, var_values, xlabel, ylabel, title1, title2, plot_type=\"r-\"):\n",
    "\n",
    "    fig, ax = plt.subplots(2,2, figsize=(15, 8))\n",
    "    fig.subplots_adjust(hspace=.5)\n",
    "    ax[0, 0].plot(np.arange(means[:, 0].shape[0]), means[:, 0], \".g\")\n",
    "    ax[0, 0].set_xlabel(xlabel)\n",
    "    ax[0, 0].set_ylabel(ylabel)\n",
    "    ax[0, 0].set_title(title1)\n",
    "    ax[0, 0].legend([\"Kalman Gain Latent 1\"])\n",
    "    start, end = min(means[:, 0]), max(means[:, 0])  + 0.05\n",
    "    ax[0, 0].yaxis.set_ticks(np.arange(start, end, 0.05))\n",
    "    ax[0, 0].yaxis.set_major_formatter(ticker.FormatStrFormatter('%0.2f'))\n",
    "    \n",
    "    ax[0, 1].plot(np.arange(means[:, 1].shape[0]), means[:, 1], \".r\") \n",
    "    ax[0, 1].set_xlabel(xlabel)\n",
    "    ax[0, 1].set_ylabel(ylabel)\n",
    "    ax[0, 1].set_title(title1)\n",
    "    ax[0, 1].legend([\"Kalman Gain Latent 2\"])\n",
    "    ax[0, 1].yaxis.set_ticks(np.arange(start, end, 0.05))\n",
    "    ax[0, 1].yaxis.set_major_formatter(ticker.FormatStrFormatter('%0.2f'))\n",
    "\n",
    "    ax[1, 0].plot(np.arange(var_values[:, 0].shape[0]), var_values[:, 0], \".g\")\n",
    "    ax[1, 0].set_xlabel(xlabel)\n",
    "    ax[1, 0].set_ylabel(ylabel)\n",
    "    ax[1, 0].set_title(title2)\n",
    "    ax[1, 0].legend([\"Latent 1\"])\n",
    "    start, end = min(var_values[:, 0]), max(var_values[:, 0]) + 0.05\n",
    "    ax[1, 0].yaxis.set_ticks(np.arange(start, end, 0.05))\n",
    "    ax[1, 0].yaxis.set_major_formatter(ticker.FormatStrFormatter('%0.2f'))\n",
    "\n",
    "    ax[1, 1].plot(np.arange(var_values[:, 1].shape[0]), var_values[:, 1], \".r\") \n",
    "    ax[1, 1].set_xlabel(xlabel)\n",
    "    ax[1, 1].set_ylabel(ylabel)\n",
    "    ax[1, 1].set_title(title2)\n",
    "    ax[1, 1].legend([\"Latent 2\"])\n",
    "    ax[1, 1].yaxis.set_ticks(np.arange(start, end, 0.05))\n",
    "    ax[1, 1].yaxis.set_major_formatter(ticker.FormatStrFormatter('%0.2f'))\n",
    "\n",
    "    sns.despine()\n",
    "    plt.show()"
   ]
  },
  {
   "cell_type": "code",
   "execution_count": 11,
   "metadata": {},
   "outputs": [],
   "source": [
    "def compute_mean_var(k_array):\n",
    "    n_samples= k_array.shape[0]\n",
    "    means = np.zeros((n_samples, 2))\n",
    "    var_values = np.zeros((n_samples, 2))\n",
    "    for i in range(n_samples):\n",
    "        k_matrix = k_array[i]\n",
    "        means[i] = np.mean(k_matrix, axis=0)\n",
    "        var_values[i] =  np.var(k_matrix, axis=0)\n",
    "    return means, var_values"
   ]
  },
  {
   "cell_type": "code",
   "execution_count": 12,
   "metadata": {},
   "outputs": [],
   "source": [
    "def compute_frobenius(k_array):\n",
    "    n_samples= k_array.shape[0]\n",
    "    norms = np.zeros(n_samples)\n",
    "    for i in range(n_samples):\n",
    "        k = k_array[i]\n",
    "        norms[i] = LA.norm(k, \"fro\")\n",
    "    return norms"
   ]
  },
  {
   "cell_type": "code",
   "execution_count": 14,
   "metadata": {},
   "outputs": [],
   "source": [
    "def plot_frobenius_norms(k_norms, f_norms):\n",
    "    \n",
    "    fig, ax = plt.subplots(1,2, figsize=(10, 4))\n",
    "    fig.subplots_adjust(wspace=.5)\n",
    "    ax[0].plot(np.arange(k_norms.size), k_norms, \"*r\")\n",
    "    ax[0].set_xlabel(\"time step\")\n",
    "    ax[0].set_ylabel(\"K\")\n",
    "    ax[0].set_title(\"K Frobenius Norm\")\n",
    "    ax[0].legend([\"K Frobenius Norm\"], loc = \"lower right\")\n",
    "    start, end = min(k_norms), max(k_norms)  + 0.1\n",
    "    ax[0].yaxis.set_ticks(np.arange(start, end, 0.1))\n",
    "    ax[0].yaxis.set_major_formatter(ticker.FormatStrFormatter('%1.2f'))\n",
    "    \n",
    "    ax[1].plot(np.arange(f_norms.size), f_norms, \"*b\")\n",
    "    ax[1].set_xlabel(\"time step\")\n",
    "    ax[1].set_ylabel(\"F\")\n",
    "    ax[1].set_title(\"F Frobenius Norm\")\n",
    "    ax[1].legend([\"F Frobenius Norm\"], loc = \"best\")\n",
    "    start, end = min(f_norms), max(f_norms)  + 0.1\n",
    "    ax[1].yaxis.set_ticks(np.arange(start, end, 0.1))\n",
    "    ax[1].yaxis.set_major_formatter(ticker.FormatStrFormatter('%1.2f'))\n",
    "    plt.show()"
   ]
  },
  {
   "cell_type": "code",
   "execution_count": 15,
   "metadata": {},
   "outputs": [
    {
     "data": {
      "text/plain": [
       "(25, 2, 2)"
      ]
     },
     "execution_count": 15,
     "metadata": {},
     "output_type": "execute_result"
    }
   ],
   "source": [
    "kf.kalman_gains.shape"
   ]
  },
  {
   "cell_type": "code",
   "execution_count": 83,
   "metadata": {},
   "outputs": [
    {
     "data": {
      "image/png": "[encoded data removed]",
      "text/plain": [
       "<Figure size 720x288 with 2 Axes>"
      ]
     },
     "metadata": {
      "needs_background": "light"
     },
     "output_type": "display_data"
    }
   ],
   "source": [
    "k_norms = compute_frobenius(kf.kalman_gains)\n",
    "f_norms = compute_frobenius(np.array(kf.f_list))\n",
    "plot_frobenius_norms(k_norms, f_norms)"
   ]
  },
  {
   "cell_type": "code",
   "execution_count": 84,
   "metadata": {},
   "outputs": [],
   "source": [
    "kalman_gain_means, kalman_gain_var = compute_mean_var(kf.kalman_gains)"
   ]
  },
  {
   "cell_type": "code",
   "execution_count": 85,
   "metadata": {},
   "outputs": [
    {
     "data": {
      "image/png": "[encoded data removed]",
      "text/plain": [
       "<Figure size 1080x576 with 4 Axes>"
      ]
     },
     "metadata": {
      "needs_background": "light"
     },
     "output_type": "display_data"
    }
   ],
   "source": [
    "plot_mean_var_values(kalman_gain_means, kalman_gain_var, \"time step\", \"K\", \"Kalman Gain Mean\", \"Kalman Gain Variance\")"
   ]
  },
  {
   "cell_type": "code",
   "execution_count": 86,
   "metadata": {},
   "outputs": [],
   "source": [
    "transition_matrices = np.eye(kf.n_dim_state)\n",
    "observation_matrices = np.eye(n_dim_state)\n",
    "initial_state_mean = np.zeros(n_dim_state)\n",
    "initial_state_covariance = np.eye(kf.n_dim_state)*.1\n",
    "transition_covariance = np.eye(n_dim_obs)\n",
    "observation_covariance = np.eye(n_dim_obs)*.1"
   ]
  },
  {
   "cell_type": "code",
   "execution_count": 87,
   "metadata": {},
   "outputs": [],
   "source": [
    "kf = MyKalmanFilter(n_dim_state=n_dim_state, n_dim_obs= n_dim_obs)\n",
    "kf.transition_matrices = transition_matrices\n",
    "kf.transition_covariance = transition_covariance\n",
    "kf.observation_matrices = observation_matrices\n",
    "kf.observation_covariance = observation_covariance\n",
    "kf.initial_state_mean = initial_state_mean\n",
    "kf.initial_state_covariance = initial_state_covariance"
   ]
  },
  {
   "cell_type": "code",
   "execution_count": 88,
   "metadata": {},
   "outputs": [
    {
     "data": {
      "image/png": "[encoded data removed]",
      "text/plain": [
       "<Figure size 1080x288 with 2 Axes>"
      ]
     },
     "metadata": {
      "needs_background": "light"
     },
     "output_type": "display_data"
    }
   ],
   "source": [
    "n_points = 25\n",
    "sampled_states, sampled_observations = kf.sample(n_points, initial_state=kf.initial_state_mean, random_seed=0)\n",
    "smoothed_state_means, smoothed_state_covariances = kf.smooth(sampled_observations)\n",
    "fig = plot_kalman(sampled_states[:,0],sampled_states[:,1],sampled_observations[:,0],sampled_observations[:,1], \n",
    "                  smoothed_state_means[:,0], smoothed_state_means[:,1], \"r-\", title=\"kf-impl-smooth\")\n",
    "plt.axis('square');"
   ]
  },
  {
   "cell_type": "code",
   "execution_count": 89,
   "metadata": {},
   "outputs": [],
   "source": [
    "# kalman_gain_means, kalman_gain_var = compute_mean_var(kf.kalman_gains)\n",
    "# plot_mean_var_values(kalman_gain_means, kalman_gain_var, \"time step\", \"K\", \"Kalman Gain Mean\", \"Kalman Gain Variance\")"
   ]
  },
  {
   "cell_type": "code",
   "execution_count": 90,
   "metadata": {},
   "outputs": [],
   "source": [
    "obscov_old = kf.observation_covariance.copy()\n",
    "\n",
    "# plot\n",
    "n_iter = 4\n",
    "stats = []\n",
    "for nn in range(n_iter):\n",
    "    sampled_states, sampled_observations = kf.sample(n_points, initial_state=kf.initial_state_mean, random_seed=nn)\n",
    "    smoothed_state_means, smoothed_state_covariances = kf.smooth(sampled_observations)\n",
    "    k_norms = compute_frobenius(kf.kalman_gains)\n",
    "    f_norms =  compute_frobenius(np.array(kf.f_list))\n",
    "    stats.append((k_norms.mean(), k_norms.var(), f_norms.mean(), f_norms.var()))\n",
    "    scaled_observation_covariance = obscov_old * 10**(-nn)\n",
    "    kf.observation_covariance = scaled_observation_covariance\n",
    "kf.observation_covariance = obscov_old\n",
    "df = pd.DataFrame(stats, columns = [\"K-Norm-Mean\", \"K-Norm-Var\", \"F-Norm-Mean\", \"F-Norm-Var\"]) "
   ]
  },
  {
   "cell_type": "markdown",
   "metadata": {},
   "source": [
    "# As we reduce the observation noise the Kalman Gain increases and the F \"Gain\" decreases."
   ]
  },
  {
   "cell_type": "code",
   "execution_count": 91,
   "metadata": {},
   "outputs": [
    {
     "data": {
      "text/html": [
       "<div>\n",
       "<style scoped>\n",
       "    .dataframe tbody tr th:only-of-type {\n",
       "        vertical-align: middle;\n",
       "    }\n",
       "\n",
       "    .dataframe tbody tr th {\n",
       "        vertical-align: top;\n",
       "    }\n",
       "\n",
       "    .dataframe thead th {\n",
       "        text-align: right;\n",
       "    }\n",
       "</style>\n",
       "<table border=\"1\" class=\"dataframe\">\n",
       "  <thead>\n",
       "    <tr style=\"text-align: right;\">\n",
       "      <th></th>\n",
       "      <th>K-Norm-Mean</th>\n",
       "      <th>K-Norm-Var</th>\n",
       "      <th>F-Norm-Mean</th>\n",
       "      <th>F-Norm-Var</th>\n",
       "    </tr>\n",
       "  </thead>\n",
       "  <tbody>\n",
       "    <tr>\n",
       "      <td>0</td>\n",
       "      <td>1.24374</td>\n",
       "      <td>0.06445</td>\n",
       "      <td>0.11908</td>\n",
       "      <td>0.00000</td>\n",
       "    </tr>\n",
       "    <tr>\n",
       "      <td>1</td>\n",
       "      <td>1.24374</td>\n",
       "      <td>0.06445</td>\n",
       "      <td>0.11908</td>\n",
       "      <td>0.00000</td>\n",
       "    </tr>\n",
       "    <tr>\n",
       "      <td>2</td>\n",
       "      <td>1.34438</td>\n",
       "      <td>0.07531</td>\n",
       "      <td>0.01845</td>\n",
       "      <td>0.00051</td>\n",
       "    </tr>\n",
       "    <tr>\n",
       "      <td>3</td>\n",
       "      <td>1.35630</td>\n",
       "      <td>0.07665</td>\n",
       "      <td>0.00650</td>\n",
       "      <td>0.00062</td>\n",
       "    </tr>\n",
       "  </tbody>\n",
       "</table>\n",
       "</div>"
      ],
      "text/plain": [
       "   K-Norm-Mean  K-Norm-Var  F-Norm-Mean  F-Norm-Var\n",
       "0      1.24374     0.06445      0.11908     0.00000\n",
       "1      1.24374     0.06445      0.11908     0.00000\n",
       "2      1.34438     0.07531      0.01845     0.00051\n",
       "3      1.35630     0.07665      0.00650     0.00062"
      ]
     },
     "execution_count": 91,
     "metadata": {},
     "output_type": "execute_result"
    }
   ],
   "source": [
    "df"
   ]
  },
  {
   "cell_type": "code",
   "execution_count": 92,
   "metadata": {},
   "outputs": [],
   "source": [
    "trans_old = kf.transition_matrices.copy()\n",
    "\n",
    "# plot\n",
    "n_iter = 4\n",
    "stats = []\n",
    "for nn in range(n_iter):\n",
    "    sampled_states, sampled_observations = kf.sample(n_points, initial_state=kf.initial_state_mean, random_seed=nn)\n",
    "    smoothed_state_means, smoothed_state_covariances = kf.smooth(sampled_observations)\n",
    "    k_norms = compute_frobenius(kf.kalman_gains)\n",
    "    f_norms =  compute_frobenius(np.array(kf.f_list))\n",
    "    stats.append((k_norms.mean(), k_norms.var(), f_norms.mean(), f_norms.var()))\n",
    "    scaled_transition = trans_old * 10**(nn)\n",
    "    kf.transition_matrices = scaled_transition\n",
    "kf.transition_matrices = trans_old\n",
    "df = pd.DataFrame(stats, columns = [\"K-Norm-Mean\", \"K-Norm-Var\", \"F-Norm-Mean\", \"F-Norm-Var\"]) "
   ]
  },
  {
   "cell_type": "markdown",
   "metadata": {},
   "source": [
    "# As we increase the temporal dynamics (transition matrix) the Kalman Gain and F increase."
   ]
  },
  {
   "cell_type": "code",
   "execution_count": 93,
   "metadata": {},
   "outputs": [
    {
     "data": {
      "text/html": [
       "<div>\n",
       "<style scoped>\n",
       "    .dataframe tbody tr th:only-of-type {\n",
       "        vertical-align: middle;\n",
       "    }\n",
       "\n",
       "    .dataframe tbody tr th {\n",
       "        vertical-align: top;\n",
       "    }\n",
       "\n",
       "    .dataframe thead th {\n",
       "        text-align: right;\n",
       "    }\n",
       "</style>\n",
       "<table border=\"1\" class=\"dataframe\">\n",
       "  <thead>\n",
       "    <tr style=\"text-align: right;\">\n",
       "      <th></th>\n",
       "      <th>K-Norm-Mean</th>\n",
       "      <th>K-Norm-Var</th>\n",
       "      <th>F-Norm-Mean</th>\n",
       "      <th>F-Norm-Var</th>\n",
       "    </tr>\n",
       "  </thead>\n",
       "  <tbody>\n",
       "    <tr>\n",
       "      <td>0</td>\n",
       "      <td>1.24374</td>\n",
       "      <td>0.06445</td>\n",
       "      <td>0.11908</td>\n",
       "      <td>0.00000</td>\n",
       "    </tr>\n",
       "    <tr>\n",
       "      <td>1</td>\n",
       "      <td>1.24374</td>\n",
       "      <td>0.06445</td>\n",
       "      <td>0.11908</td>\n",
       "      <td>0.00000</td>\n",
       "    </tr>\n",
       "    <tr>\n",
       "      <td>2</td>\n",
       "      <td>1.34532</td>\n",
       "      <td>0.07541</td>\n",
       "      <td>0.17432</td>\n",
       "      <td>0.05048</td>\n",
       "    </tr>\n",
       "    <tr>\n",
       "      <td>3</td>\n",
       "      <td>1.35751</td>\n",
       "      <td>0.07678</td>\n",
       "      <td>0.52778</td>\n",
       "      <td>6.33201</td>\n",
       "    </tr>\n",
       "  </tbody>\n",
       "</table>\n",
       "</div>"
      ],
      "text/plain": [
       "   K-Norm-Mean  K-Norm-Var  F-Norm-Mean  F-Norm-Var\n",
       "0      1.24374     0.06445      0.11908     0.00000\n",
       "1      1.24374     0.06445      0.11908     0.00000\n",
       "2      1.34532     0.07541      0.17432     0.05048\n",
       "3      1.35751     0.07678      0.52778     6.33201"
      ]
     },
     "execution_count": 93,
     "metadata": {},
     "output_type": "execute_result"
    }
   ],
   "source": [
    "df"
   ]
  },
  {
   "cell_type": "code",
   "execution_count": 94,
   "metadata": {},
   "outputs": [],
   "source": [
    "obs_old = kf.observation_matrices.copy()\n",
    "\n",
    "# plot\n",
    "n_iter = 4\n",
    "stats = []\n",
    "for nn in range(n_iter):\n",
    "    sampled_states, sampled_observations = kf.sample(n_points, initial_state=kf.initial_state_mean, random_seed=nn)\n",
    "    smoothed_state_means, smoothed_state_covariances = kf.smooth(sampled_observations)\n",
    "    k_norms = compute_frobenius(kf.kalman_gains)\n",
    "    f_norms =  compute_frobenius(np.array(kf.f_list))\n",
    "    stats.append((k_norms.mean(), k_norms.var(), f_norms.mean(), f_norms.var()))\n",
    "    scaled_observation = obs_old * 10**(nn)\n",
    "    kf.observation_matrices = scaled_observation\n",
    "kf.observation_matrices = obs_old\n",
    "df = pd.DataFrame(stats, columns = [\"K-Norm-Mean\", \"K-Norm-Var\", \"F-Norm-Mean\", \"F-Norm-Var\"]) "
   ]
  },
  {
   "cell_type": "markdown",
   "metadata": {},
   "source": [
    "# As we increase the observation dynamics the Kalman Gain and F decrease."
   ]
  },
  {
   "cell_type": "code",
   "execution_count": 95,
   "metadata": {},
   "outputs": [
    {
     "data": {
      "text/html": [
       "<div>\n",
       "<style scoped>\n",
       "    .dataframe tbody tr th:only-of-type {\n",
       "        vertical-align: middle;\n",
       "    }\n",
       "\n",
       "    .dataframe tbody tr th {\n",
       "        vertical-align: top;\n",
       "    }\n",
       "\n",
       "    .dataframe thead th {\n",
       "        text-align: right;\n",
       "    }\n",
       "</style>\n",
       "<table border=\"1\" class=\"dataframe\">\n",
       "  <thead>\n",
       "    <tr style=\"text-align: right;\">\n",
       "      <th></th>\n",
       "      <th>K-Norm-Mean</th>\n",
       "      <th>K-Norm-Var</th>\n",
       "      <th>F-Norm-Mean</th>\n",
       "      <th>F-Norm-Var</th>\n",
       "    </tr>\n",
       "  </thead>\n",
       "  <tbody>\n",
       "    <tr>\n",
       "      <td>0</td>\n",
       "      <td>1.24374</td>\n",
       "      <td>0.06445</td>\n",
       "      <td>0.11908</td>\n",
       "      <td>0.00000</td>\n",
       "    </tr>\n",
       "    <tr>\n",
       "      <td>1</td>\n",
       "      <td>1.24374</td>\n",
       "      <td>0.06445</td>\n",
       "      <td>0.11908</td>\n",
       "      <td>0.00000</td>\n",
       "    </tr>\n",
       "    <tr>\n",
       "      <td>2</td>\n",
       "      <td>0.13563</td>\n",
       "      <td>0.00077</td>\n",
       "      <td>0.00650</td>\n",
       "      <td>0.00062</td>\n",
       "    </tr>\n",
       "    <tr>\n",
       "      <td>3</td>\n",
       "      <td>0.01358</td>\n",
       "      <td>0.00001</td>\n",
       "      <td>0.00516</td>\n",
       "      <td>0.00063</td>\n",
       "    </tr>\n",
       "  </tbody>\n",
       "</table>\n",
       "</div>"
      ],
      "text/plain": [
       "   K-Norm-Mean  K-Norm-Var  F-Norm-Mean  F-Norm-Var\n",
       "0      1.24374     0.06445      0.11908     0.00000\n",
       "1      1.24374     0.06445      0.11908     0.00000\n",
       "2      0.13563     0.00077      0.00650     0.00062\n",
       "3      0.01358     0.00001      0.00516     0.00063"
      ]
     },
     "execution_count": 95,
     "metadata": {},
     "output_type": "execute_result"
    }
   ],
   "source": [
    "df"
   ]
  },
  {
   "cell_type": "code",
   "execution_count": null,
   "metadata": {},
   "outputs": [],
   "source": []
  }
 ],
 "metadata": {
  "kernelspec": {
   "display_name": "mylab2env",
   "language": "python",
   "name": "mylab2env"
  },
  "language_info": {
   "codemirror_mode": {
    "name": "ipython",
    "version": 3
   },
   "file_extension": ".py",
   "mimetype": "text/x-python",
   "name": "python",
   "nbconvert_exporter": "python",
   "pygments_lexer": "ipython3",
   "version": "3.6.9"
  }
 },
 "nbformat": 4,
 "nbformat_minor": 4
}
