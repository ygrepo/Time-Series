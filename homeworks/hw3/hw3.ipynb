{
 "cells": [
  {
   "cell_type": "code",
   "execution_count": 1,
   "metadata": {},
   "outputs": [],
   "source": [
    "import numpy as np\n",
    "\n",
    "import pandas as pd\n",
    "import matplotlib.pyplot as plt\n",
    "import matplotlib.dates as mdates\n",
    "import seaborn as sns\n",
    "from scipy.stats import norm\n",
    "from sklearn import cluster\n",
    "from sklearn.mixture import BayesianGaussianMixture"
   ]
  },
  {
   "cell_type": "code",
   "execution_count": 2,
   "metadata": {},
   "outputs": [],
   "source": [
    " np.random.seed(0)"
   ]
  },
  {
   "cell_type": "code",
   "execution_count": 3,
   "metadata": {},
   "outputs": [],
   "source": [
    "def forward(obs, transition_probability, emission_probability, start_probability):\n",
    "    T = len(obs)\n",
    "    N = transition_probability.shape[0]\n",
    "    alpha = np.zeros((T, N))\n",
    "    alpha[0] = emission_probability[:, obs[0]] * start_probability\n",
    "    for i in range(1, T):\n",
    "        alpha[i] = emission_probability[:, obs[i]] * np.inner(alpha[i - 1], transition_probability)\n",
    "    return alpha\n"
   ]
  },
  {
   "cell_type": "code",
   "execution_count": 4,
   "metadata": {},
   "outputs": [
    {
     "name": "stdout",
     "output_type": "stream",
     "text": [
      "Number of rows: 509\n"
     ]
    },
    {
     "data": {
      "text/html": [
       "<div>\n",
       "<style scoped>\n",
       "    .dataframe tbody tr th:only-of-type {\n",
       "        vertical-align: middle;\n",
       "    }\n",
       "\n",
       "    .dataframe tbody tr th {\n",
       "        vertical-align: top;\n",
       "    }\n",
       "\n",
       "    .dataframe thead th {\n",
       "        text-align: right;\n",
       "    }\n",
       "</style>\n",
       "<table border=\"1\" class=\"dataframe\">\n",
       "  <thead>\n",
       "    <tr style=\"text-align: right;\">\n",
       "      <th></th>\n",
       "      <th>Close</th>\n",
       "    </tr>\n",
       "  </thead>\n",
       "  <tbody>\n",
       "    <tr>\n",
       "      <td>0</td>\n",
       "      <td>0.037213</td>\n",
       "    </tr>\n",
       "    <tr>\n",
       "      <td>1</td>\n",
       "      <td>0.020674</td>\n",
       "    </tr>\n",
       "    <tr>\n",
       "      <td>2</td>\n",
       "      <td>-0.028198</td>\n",
       "    </tr>\n",
       "    <tr>\n",
       "      <td>3</td>\n",
       "      <td>-0.045812</td>\n",
       "    </tr>\n",
       "    <tr>\n",
       "      <td>4</td>\n",
       "      <td>-0.006639</td>\n",
       "    </tr>\n",
       "  </tbody>\n",
       "</table>\n",
       "</div>"
      ],
      "text/plain": [
       "      Close\n",
       "0  0.037213\n",
       "1  0.020674\n",
       "2 -0.028198\n",
       "3 -0.045812\n",
       "4 -0.006639"
      ]
     },
     "execution_count": 4,
     "metadata": {},
     "output_type": "execute_result"
    }
   ],
   "source": [
    "data_file = \"../../data/sp500w.csv\"\n",
    "df = pd.read_csv(data_file)\n",
    "print('Number of rows:',len(df))\n",
    "df.drop(\"Unnamed: 0\", axis=1, inplace=True)\n",
    "df.head()"
   ]
  },
  {
   "cell_type": "code",
   "execution_count": 5,
   "metadata": {},
   "outputs": [],
   "source": [
    "df = df[df[\"Close\"] > -0.2]"
   ]
  },
  {
   "cell_type": "code",
   "execution_count": 6,
   "metadata": {},
   "outputs": [
    {
     "data": {
      "text/plain": [
       "array([datetime.date(2000, 12, 29), datetime.date(2001, 12, 31),\n",
       "       datetime.date(2002, 12, 31), datetime.date(2003, 12, 31),\n",
       "       datetime.date(2004, 12, 31), datetime.date(2005, 12, 30),\n",
       "       datetime.date(2006, 12, 29), datetime.date(2007, 12, 31),\n",
       "       datetime.date(2008, 12, 31), datetime.date(2009, 12, 31),\n",
       "       datetime.date(2010, 12, 31), datetime.date(2011, 12, 30),\n",
       "       datetime.date(2012, 12, 31), datetime.date(2013, 12, 31),\n",
       "       datetime.date(2014, 12, 31), datetime.date(2015, 12, 31)],\n",
       "      dtype=object)"
      ]
     },
     "execution_count": 6,
     "metadata": {},
     "output_type": "execute_result"
    }
   ],
   "source": [
    "dr = pd.date_range(start=\"1/1/2000\", end=\"31/12/2015\", freq=\"BY\")\n",
    "dr = dr.date.astype('O')\n",
    "dr"
   ]
  },
  {
   "cell_type": "code",
   "execution_count": 7,
   "metadata": {},
   "outputs": [
    {
     "data": {
      "image/png": "[encoded data removed]",
      "text/plain": [
       "<Figure size 1080x288 with 1 Axes>"
      ]
     },
     "metadata": {
      "needs_background": "light"
     },
     "output_type": "display_data"
    }
   ],
   "source": [
    "fig, ax = plt.subplots(figsize=(15,4))\n",
    "ax.plot(np.arange(len(df)), df[\"Close\"], \".\", color=\"red\", label=\"SP500\");\n",
    "ax.set_ylabel(\"S&P500 Weekly Returns\")\n",
    "ax.set_xlabel(\"Time\")\n",
    "years = mdates.YearLocator()   # every year\n",
    "months = mdates.MonthLocator()  # every month\n",
    "yearsFmt = mdates.DateFormatter('%Y')\n",
    "ax.xaxis.set_major_locator(years)\n",
    "ax.xaxis.set_major_formatter(yearsFmt)\n",
    "ax.xaxis.set_minor_locator(months)\n",
    "fig.autofmt_xdate()\n",
    "ax.fmt_xdata = mdates.DateFormatter('%Y-%m-%d')\n",
    "plt.show()"
   ]
  },
  {
   "cell_type": "code",
   "execution_count": 8,
   "metadata": {},
   "outputs": [
    {
     "data": {
      "text/html": [
       "<div>\n",
       "<style scoped>\n",
       "    .dataframe tbody tr th:only-of-type {\n",
       "        vertical-align: middle;\n",
       "    }\n",
       "\n",
       "    .dataframe tbody tr th {\n",
       "        vertical-align: top;\n",
       "    }\n",
       "\n",
       "    .dataframe thead th {\n",
       "        text-align: right;\n",
       "    }\n",
       "</style>\n",
       "<table border=\"1\" class=\"dataframe\">\n",
       "  <thead>\n",
       "    <tr style=\"text-align: right;\">\n",
       "      <th></th>\n",
       "      <th>Close</th>\n",
       "    </tr>\n",
       "  </thead>\n",
       "  <tbody>\n",
       "    <tr>\n",
       "      <td>count</td>\n",
       "      <td>508.000000</td>\n",
       "    </tr>\n",
       "    <tr>\n",
       "      <td>mean</td>\n",
       "      <td>0.001376</td>\n",
       "    </tr>\n",
       "    <tr>\n",
       "      <td>std</td>\n",
       "      <td>0.024528</td>\n",
       "    </tr>\n",
       "    <tr>\n",
       "      <td>min</td>\n",
       "      <td>-0.098709</td>\n",
       "    </tr>\n",
       "    <tr>\n",
       "      <td>25%</td>\n",
       "      <td>-0.009952</td>\n",
       "    </tr>\n",
       "    <tr>\n",
       "      <td>50%</td>\n",
       "      <td>0.001816</td>\n",
       "    </tr>\n",
       "    <tr>\n",
       "      <td>75%</td>\n",
       "      <td>0.014384</td>\n",
       "    </tr>\n",
       "    <tr>\n",
       "      <td>max</td>\n",
       "      <td>0.113559</td>\n",
       "    </tr>\n",
       "  </tbody>\n",
       "</table>\n",
       "</div>"
      ],
      "text/plain": [
       "            Close\n",
       "count  508.000000\n",
       "mean     0.001376\n",
       "std      0.024528\n",
       "min     -0.098709\n",
       "25%     -0.009952\n",
       "50%      0.001816\n",
       "75%      0.014384\n",
       "max      0.113559"
      ]
     },
     "execution_count": 8,
     "metadata": {},
     "output_type": "execute_result"
    }
   ],
   "source": [
    "df.describe()"
   ]
  },
  {
   "cell_type": "code",
   "execution_count": 9,
   "metadata": {},
   "outputs": [
    {
     "name": "stderr",
     "output_type": "stream",
     "text": [
      "/Users/yg/anaconda3/envs/mylab2env/lib/python3.6/site-packages/scipy/stats/stats.py:1713: FutureWarning: Using a non-tuple sequence for multidimensional indexing is deprecated; use `arr[tuple(seq)]` instead of `arr[seq]`. In the future this will be interpreted as an array index, `arr[np.array(seq)]`, which will result either in an error or a different result.\n",
      "  return np.add.reduce(sorted[indexer] * weights, axis=axis) / sumval\n"
     ]
    },
    {
     "data": {
      "image/png": "[encoded data removed]",
      "text/plain": [
       "<Figure size 1080x432 with 1 Axes>"
      ]
     },
     "metadata": {
      "needs_background": "light"
     },
     "output_type": "display_data"
    }
   ],
   "source": [
    "fig, ax = plt.subplots(figsize=(15,6))\n",
    "sns.distplot(df[\"Close\"], bins=50, ax=ax, kde=True)\n",
    "ax.set_xlabel(\"S&P500 Weekly Returns\")\n",
    "ax.set_ylabel(\"Density\")\n",
    "fig.autofmt_xdate()\n",
    "plt.show()"
   ]
  },
  {
   "cell_type": "code",
   "execution_count": 11,
   "metadata": {},
   "outputs": [],
   "source": [
    "data = np.array(df[\"Close\"]).reshape(-1,1)"
   ]
  },
  {
   "cell_type": "code",
   "execution_count": 12,
   "metadata": {},
   "outputs": [
    {
     "data": {
      "text/plain": [
       "BayesianGaussianMixture(covariance_prior=None, covariance_type='full',\n",
       "                        degrees_of_freedom_prior=None, init_params='kmeans',\n",
       "                        max_iter=1500, mean_precision_prior=None,\n",
       "                        mean_prior=None, n_components=3, n_init=1,\n",
       "                        random_state=None, reg_covar=1e-06, tol=0.001,\n",
       "                        verbose=0, verbose_interval=10, warm_start=False,\n",
       "                        weight_concentration_prior=None,\n",
       "                        weight_concentration_prior_type='dirichlet_process')"
      ]
     },
     "execution_count": 12,
     "metadata": {},
     "output_type": "execute_result"
    }
   ],
   "source": [
    "gmm = BayesianGaussianMixture(n_components=3, init_params=\"kmeans\", max_iter=1500)\n",
    "gmm.fit(data)"
   ]
  },
  {
   "cell_type": "code",
   "execution_count": 13,
   "metadata": {},
   "outputs": [
    {
     "data": {
      "text/plain": [
       "True"
      ]
     },
     "execution_count": 13,
     "metadata": {},
     "output_type": "execute_result"
    }
   ],
   "source": [
    "gmm.converged_"
   ]
  },
  {
   "cell_type": "code",
   "execution_count": 14,
   "metadata": {},
   "outputs": [
    {
     "data": {
      "text/plain": [
       "array([[ 0.00496639],\n",
       "       [-0.01426084],\n",
       "       [ 0.00483315]])"
      ]
     },
     "execution_count": 14,
     "metadata": {},
     "output_type": "execute_result"
    }
   ],
   "source": [
    "gmm.means_"
   ]
  },
  {
   "cell_type": "code",
   "execution_count": 122,
   "metadata": {},
   "outputs": [],
   "source": [
    "def plot_gaussian(means, covars, curve_ind=0):\n",
    "    fig, ax = plt.subplots(figsize=(15, 4))\n",
    "    # means = np.array([0.004, -0.34, -0.003])\n",
    "    ind = means.argsort()[-3:][::-1]\n",
    "    means = means[ind]\n",
    "    print(\"Mean={}\".format(means))\n",
    "    # stds = np.array([.014, .009, .044])\n",
    "    covars = covars[ind]\n",
    "    print(\"Covars={}\".format(covars))\n",
    "    x1 = np.linspace(means[0] - 2 * covars[0], means[0] + 2* covars[0], 100)\n",
    "    x2 = np.linspace(means[1] - 2 * covars[1], means[1] + 2* covars[1], 100)\n",
    "    x3 = np.linspace(means[2] - 2 * covars[2], means[2] + 2* covars[2], 100)\n",
    "    if curve_ind == 0:\n",
    "        ax.plot(x1, norm.pdf(x1, means[0], covars[0]), \".\", color=\"grey\")\n",
    "    elif curve_ind == 1:\n",
    "        ax.plot(x2, norm.pdf(x2, means[1], covars[1]), \".\", color=\"blue\")\n",
    "    else:\n",
    "        ax.plot(x3, norm.pdf(x3, means[2], covars[2]), \".\", color=\"red\")\n",
    "    ax.set_xlabel(\"S&P500 Weekly Returns\")\n",
    "    ax.set_ylabel(\"Density\")\n",
    "    plt.show()"
   ]
  },
  {
   "cell_type": "code",
   "execution_count": 113,
   "metadata": {},
   "outputs": [
    {
     "data": {
      "text/plain": [
       "array([2.        , 2.82842712, 4.        ])"
      ]
     },
     "execution_count": 113,
     "metadata": {},
     "output_type": "execute_result"
    }
   ],
   "source": [
    "y = np.array([4,8,16])\n",
    "np.sqrt(y)"
   ]
  },
  {
   "cell_type": "code",
   "execution_count": 105,
   "metadata": {},
   "outputs": [
    {
     "name": "stdout",
     "output_type": "stream",
     "text": [
      "Mean=[ 0.00496639  0.00483315 -0.01426084]\n",
      "Covars=[0.00168781 0.00019083 0.00067301]\n"
     ]
    },
    {
     "data": {
      "image/png": "[encoded data removed]",
      "text/plain": [
       "<Figure size 1080x288 with 1 Axes>"
      ]
     },
     "metadata": {
      "needs_background": "light"
     },
     "output_type": "display_data"
    }
   ],
   "source": [
    "plot_gaussian(gmm.means_.flatten(), gmm.covariances_.flatten(), curve_ind=3)"
   ]
  },
  {
   "cell_type": "code",
   "execution_count": 86,
   "metadata": {},
   "outputs": [
    {
     "data": {
      "text/plain": [
       "(1, 1)"
      ]
     },
     "execution_count": 86,
     "metadata": {},
     "output_type": "execute_result"
    }
   ],
   "source": [
    "np.eye(1).shape"
   ]
  },
  {
   "cell_type": "code",
   "execution_count": 117,
   "metadata": {},
   "outputs": [
    {
     "name": "stdout",
     "output_type": "stream",
     "text": [
      "Mean=[ 0.00514982 -0.00136042 -0.00796298]\n",
      "Covars=[0.01325707 0.03874765 0.020008  ]\n"
     ]
    },
    {
     "data": {
      "image/png": "[encoded data removed]",
      "text/plain": [
       "<Figure size 1080x288 with 1 Axes>"
      ]
     },
     "metadata": {
      "needs_background": "light"
     },
     "output_type": "display_data"
    }
   ],
   "source": [
    "means=np.array([-0.00796298, -0.00136042, 0.00514982])\n",
    "covars = np.array([0.00040032, 0.00150138, 0.00017575])\n",
    "plot_gaussian(means, np.sqrt(covars), curve_ind=3)"
   ]
  },
  {
   "cell_type": "code",
   "execution_count": 123,
   "metadata": {},
   "outputs": [],
   "source": [
    "def plot_gaussian_2(means, covars, curve_ind=0):\n",
    "    fig, ax = plt.subplots(figsize=(15, 4))\n",
    "    # means = np.array([0.004, -0.34, -0.003])\n",
    "    ind = means.argsort()[-3:][::-1]\n",
    "    means = means[ind]\n",
    "    print(\"Mean={}\".format(means))\n",
    "    # stds = np.array([.014, .009, .044])\n",
    "    covars = covars[ind]\n",
    "    print(\"Covars={}\".format(covars))\n",
    "    x1 = np.linspace(means[0] - 2 * covars[0], means[0] + 2* covars[0], 100)\n",
    "    x2 = np.linspace(means[1] - 2 * covars[1], means[1] + 2* covars[1], 100)\n",
    "    x3 = np.linspace(means[2] - 2 * covars[2], means[2] + 2* covars[2], 100)\n",
    "    sns.distplot(df[\"Close\"], bins=50, ax=ax, kde=True)\n",
    "    ax.plot(x1, norm.pdf(x1, means[0], covars[0]), \".\", color=\"grey\")\n",
    "    ax.plot(x2, norm.pdf(x2, means[1], covars[1]), \".\", color=\"blue\")\n",
    "    ax.plot(x3, norm.pdf(x3, means[2], covars[2]), \".\", color=\"red\")\n",
    "    ax.set_xlabel(\"S&P500 Weekly Returns\")\n",
    "    ax.set_ylabel(\"Density\")\n",
    "    plt.show()"
   ]
  },
  {
   "cell_type": "code",
   "execution_count": 124,
   "metadata": {},
   "outputs": [
    {
     "name": "stdout",
     "output_type": "stream",
     "text": [
      "Mean=[ 0.00514982 -0.00136042 -0.00796298]\n",
      "Covars=[0.01325707 0.03874765 0.020008  ]\n"
     ]
    },
    {
     "data": {
      "image/png": "[encoded data removed]",
      "text/plain": [
       "<Figure size 1080x288 with 1 Axes>"
      ]
     },
     "metadata": {
      "needs_background": "light"
     },
     "output_type": "display_data"
    }
   ],
   "source": [
    "plot_gaussian_2(means, np.sqrt(covars), curve_ind=3)"
   ]
  },
  {
   "cell_type": "code",
   "execution_count": null,
   "metadata": {},
   "outputs": [],
   "source": []
  }
 ],
 "metadata": {
  "kernelspec": {
   "display_name": "mylab2env",
   "language": "python",
   "name": "mylab2env"
  },
  "language_info": {
   "codemirror_mode": {
    "name": "ipython",
    "version": 3
   },
   "file_extension": ".py",
   "mimetype": "text/x-python",
   "name": "python",
   "nbconvert_exporter": "python",
   "pygments_lexer": "ipython3",
   "version": "3.6.9"
  }
 },
 "nbformat": 4,
 "nbformat_minor": 4
}
