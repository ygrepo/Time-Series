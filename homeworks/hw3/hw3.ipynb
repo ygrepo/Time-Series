{
 "cells": [
  {
   "cell_type": "code",
   "execution_count": null,
   "metadata": {},
   "outputs": [],
   "source": [
    "import numpy as np"
   ]
  },
  {
   "cell_type": "code",
   "execution_count": null,
   "metadata": {},
   "outputs": [],
   "source": [
    "def forward(obs, transition_probability, emission_probability, start_probability):\n",
    "    T = len(obs)\n",
    "    N = transition_probability.shape[0]\n",
    "    alpha = np.zeros((T, N))\n",
    "    alpha[0] = emission_probability[:, obs[0]] * start_probability\n",
    "    for i in range(1, T):\n",
    "        alpha[i] = emission_probability[:, obs[i]] * np.inner(alpha[i - 1], transition_probability)\n",
    "    return alpha\n"
   ]
  },
  {
   "cell_type": "code",
   "execution_count": null,
   "metadata": {},
   "outputs": [],
   "source": []
  }
 ],
 "metadata": {
  "kernelspec": {
   "display_name": "mylab2env",
   "language": "python",
   "name": "mylab2env"
  },
  "language_info": {
   "name": ""
  }
 },
 "nbformat": 4,
 "nbformat_minor": 4
}
