{
 "cells": [
  {
   "cell_type": "code",
   "execution_count": 1,
   "metadata": {},
   "outputs": [],
   "source": [
    "import statsmodels\n",
    "from statsmodels.tsa.stattools import acf, ccf, pacf\n",
    "from statsmodels.graphics.tsaplots import plot_acf, plot_pacf\n",
    "from statsmodels.graphics import utils\n",
    "import numpy as np\n",
    "import matplotlib.pyplot as plt\n",
    "import pandas as pd\n",
    "import statsmodels.api as sm\n",
    "from statsmodels.graphics.api import qqplot"
   ]
  },
  {
   "cell_type": "code",
   "execution_count": 2,
   "metadata": {},
   "outputs": [],
   "source": [
    "def plot_ccf(x, y, ax=None, lags=None, alpha=.05, use_vlines=True, unbiased=False,\n",
    "             fft=False, title='Cross-correlation', zero=True, **kwargs):\n",
    "    fig, ax = utils.create_mpl_ax(ax)\n",
    "    lags, nlags, irregular = statsmodels.graphics.tsaplots._prepare_data_corr_plot(x, lags, zero)\n",
    "    confint = None\n",
    "    ccf_val = ccf(x, y)\n",
    "    if lags is not None:\n",
    "        ccf_val = ccf_val[:nlags+1]\n",
    "    statsmodels.graphics.tsaplots._plot_corr(ax, title, ccf_val, confint, lags, irregular, use_vlines, **kwargs)\n",
    "    return fig"
   ]
  },
  {
   "cell_type": "code",
   "execution_count": 3,
   "metadata": {},
   "outputs": [],
   "source": [
    "def acf_impl(x, nlags):\n",
    "    \"\"\"\n",
    "    TODO\n",
    "    @param x: a 1-d numpy array (data)\n",
    "    @param nlags: an integer indicating how far back to compute the ACF\n",
    "    @return a 1-d numpy array with (nlags+1) elements. \n",
    "            Where the first element denotes the acf at lag = 0 (1.0 by definition).\n",
    "    \"\"\"\n",
    "    #TODO: replace the template code with your code here. This part will be graded.\n",
    "    def r(x, y):\n",
    "        return np.mean((x - x.mean()) * (y - y.mean())) / (x.std() * y.std())\n",
    "    \n",
    "    return np.array([1] + [r(x[:-i], x[i:]) for i in range(1, nlags)])"
   ]
  },
  {
   "cell_type": "code",
   "execution_count": 4,
   "metadata": {},
   "outputs": [],
   "source": [
    "n = 10000\n",
    "mean = 0\n",
    "std = 1 \n",
    "lag = 2\n",
    "w_t = np.random.normal(mean, std, size=n)"
   ]
  },
  {
   "cell_type": "code",
   "execution_count": 5,
   "metadata": {},
   "outputs": [],
   "source": [
    "x_t = np.zeros(n)\n",
    "x_t[0] = 0.5\n",
    "x_t[1] = 1\n",
    "for i in range (2, n):\n",
    "    x_t[i] = 0.7 * x_t[i-1] - 0.1 * x_t[i-2] + w_t[i]"
   ]
  },
  {
   "cell_type": "code",
   "execution_count": 6,
   "metadata": {},
   "outputs": [
    {
     "data": {
      "image/png": "[encoded data removed]",
      "text/plain": [
       "<Figure size 432x288 with 1 Axes>"
      ]
     },
     "metadata": {
      "needs_background": "light"
     },
     "output_type": "display_data"
    }
   ],
   "source": [
    "plt.plot(x_t)\n",
    "plt.title(\"x_t\")\n",
    "plt.show()"
   ]
  },
  {
   "cell_type": "code",
   "execution_count": 7,
   "metadata": {},
   "outputs": [
    {
     "name": "stdout",
     "output_type": "stream",
     "text": [
      "StatsModels ACF=[1.        0.6380166 0.3451316]\n"
     ]
    }
   ],
   "source": [
    "acf_val = acf(x=x_t, nlags=lag, fft=True)\n",
    "print(\"StatsModels ACF={}\".format(acf_val))"
   ]
  },
  {
   "cell_type": "code",
   "execution_count": 8,
   "metadata": {},
   "outputs": [],
   "source": [
    "phi1 = 0.7\n",
    "phi2 = -0.1"
   ]
  },
  {
   "cell_type": "code",
   "execution_count": 9,
   "metadata": {},
   "outputs": [
    {
     "name": "stdout",
     "output_type": "stream",
     "text": [
      "0.6363636363636362 0.34545454545454535\n"
     ]
    }
   ],
   "source": [
    "r1 = phi1/(1-phi2)\n",
    "r2 = ((phi1 * phi1) + (1-phi2) * phi2)/(1-phi2)\n",
    "print(r1, r2)"
   ]
  },
  {
   "cell_type": "code",
   "execution_count": 10,
   "metadata": {},
   "outputs": [
    {
     "data": {
      "text/latex": [
       "$\\rho(1)=$0.6363636363636362 $\\rho(2)=$=0.34545454545454535\n"
      ],
      "text/plain": [
       "<IPython.core.display.Latex object>"
      ]
     },
     "metadata": {},
     "output_type": "display_data"
    }
   ],
   "source": [
    "%%latex\n",
    "$\\rho(1)=$0.6363636363636362 $\\rho(2)=$=0.34545454545454535"
   ]
  },
  {
   "cell_type": "code",
   "execution_count": null,
   "metadata": {},
   "outputs": [],
   "source": [
    "plt.plot(x_t)\n",
    "plt.title(\"x_t\")\n",
    "plt.show()"
   ]
  },
  {
   "cell_type": "code",
   "execution_count": null,
   "metadata": {},
   "outputs": [],
   "source": [
    "x_t = np.random.normal(mean, std, size=2)\n",
    "y_t = np.zeros(n)\n",
    "y_t[0] = x_t[0]\n",
    "y_t[1] = x_t[1]\n",
    "for i in range (2, n):\n",
    "    y_t[i] = 0.7 * y_t[i-1] - 0.1 * y_t[i-2] + w_t[i]"
   ]
  },
  {
   "cell_type": "code",
   "execution_count": null,
   "metadata": {},
   "outputs": [],
   "source": [
    "acf_val = acf(x=y_t, nlags=lag, fft=True)\n",
    "print(\"StatsModels ACF={}\".format(acf_val))\n",
    "acf_val = acf_impl(x=y_t, nlags=3)\n",
    "print(\"Imlemented ACF={}\".format(acf_val))"
   ]
  },
  {
   "cell_type": "code",
   "execution_count": null,
   "metadata": {},
   "outputs": [],
   "source": [
    "plt.plot(y_t)\n",
    "plt.title(\"y_t\")\n",
    "plt.show()\n",
    "\n",
    "# plot acf\n",
    "plot_acf(x=y_t, lags=lag, title=\"ACF y_t\")\n",
    "plt.show()\n",
    "\n",
    "# plot ccf\n",
    "ccf_val = ccf(y_t, w_t)\n",
    "plot_ccf(w_t, y_t, title=\"CCF\", lags=lag, vlines_kwargs={})\n",
    "plt.show()"
   ]
  },
  {
   "cell_type": "code",
   "execution_count": null,
   "metadata": {},
   "outputs": [],
   "source": [
    "p = 2\n",
    "q = 1\n",
    "arma_mod = sm.tsa.ARMA(y_t, (0,2)).fit(disp=False)\n",
    "print(len(arma_mod.params))\n",
    "print(arma_mod.params)\n",
    "print(\"ar_roots={}, ma_roots={}\".format(arma_mod.arroots, arma_mod.maroots))\n",
    "phi1= arma_mod.params[1]\n",
    "phi2= arma_mod.params[2]\n",
    "print(phi1, phi2)\n",
    "r1 = phi1/(1-phi2)\n",
    "r2 = (phi1* phi1) / (1-phi2) + phi2\n",
    "rho = np.array([1, r1, r2])\n",
    "print(rho)"
   ]
  },
  {
   "cell_type": "code",
   "execution_count": 36,
   "metadata": {},
   "outputs": [
    {
     "data": {
      "image/png": "[encoded data removed]",
      "text/plain": [
       "<Figure size 576x432 with 3 Axes>"
      ]
     },
     "metadata": {
      "needs_background": "light"
     },
     "output_type": "display_data"
    }
   ],
   "source": [
    "n = 200\n",
    "mean = 0\n",
    "std = 1\n",
    "lag =20\n",
    "\n",
    "# create white noise\n",
    "np.random.seed(0)\n",
    "w_t = np.random.normal(mean, 5, size=n+1) \n",
    "\n",
    "ma1 = list(np.random.normal(mean, std, size=1))\n",
    "for i in range(1, n+1):\n",
    "    ma1.append(w_t[i] + 0.2 * w_t[i-1])\n",
    "               \n",
    "ma2 = list(np.random.normal(mean, std, size=1))\n",
    "for i in range(2, n+1):\n",
    "    ma2.append(w_t[i] + 0.2 * w_t[i-1] + 0.3 * w_t[i-2])\n",
    "               \n",
    "\n",
    "\n",
    "ma3 = list(np.random.normal(mean, std, size=1))\n",
    "for i in range(3, n+1):\n",
    "    ma3.append(w_t[i] + 0.2 * w_t[i-1] + 0.3 * w_t[i-2] + 0.5 * w_t[i-3])\n",
    "\n",
    "\n",
    "fig = plt.figure(figsize=(8,6))\n",
    "fig.subplots_adjust(hspace=.5)\n",
    "\n",
    "ax1 = fig.add_subplot(311)\n",
    "fig = plot_acf(ma1, lags=lag, ax=ax1, title=\"ACF MA(1)\", alpha=0.5)\n",
    "\n",
    "ax2 = fig.add_subplot(312)\n",
    "fig = plot_acf(ma2, lags=lag, ax=ax2, title=\"ACF MA(2)\", alpha=0.5)\n",
    "\n",
    "ax3 = fig.add_subplot(313)\n",
    "fig = plot_acf(ma3, lags=lag, ax=ax3, title=\"ACF MA(3)\", alpha=0.5)\n",
    "\n"
   ]
  },
  {
   "cell_type": "code",
   "execution_count": 35,
   "metadata": {},
   "outputs": [
    {
     "data": {
      "image/png": "[encoded data removed]",
      "text/plain": [
       "<Figure size 576x432 with 3 Axes>"
      ]
     },
     "metadata": {
      "needs_background": "light"
     },
     "output_type": "display_data"
    }
   ],
   "source": [
    "n = 1000\n",
    "mean = 0\n",
    "std = 1\n",
    "lag = 40\n",
    "\n",
    "np.random.seed(0)\n",
    "x1_t = w_t = np.random.normal(mean, 5, size=n) \n",
    "\n",
    "a=0.6\n",
    "for t in range(n):\n",
    "    x1_t[t] = a*x1_t[t-1] + w_t[t]\n",
    "\n",
    "alphas = np.array([.444, .333])\n",
    "betas = np.array([0.])\n",
    "\n",
    "# Python requires us to specify the zero-lag value which is 1\n",
    "# Also note that the alphas for the AR model must be negated\n",
    "# We also set the betas for the MA equal to 0 for an AR(p) model\n",
    "# For more information see the examples at statsmodels.org\n",
    "ar = np.r_[1, -alphas]\n",
    "ma = np.r_[1, betas]\n",
    "\n",
    "ar2 =statsmodels.tsa.arima_process.arma_generate_sample(ar=ar, ma=ma, nsample=n) \n",
    " \n",
    "alphas = np.array([.444, .333, .2222])\n",
    "betas = np.array([0.])\n",
    "ar = np.r_[1, -alphas]\n",
    "ma = np.r_[1, betas]\n",
    "\n",
    "ar3 =statsmodels.tsa.arima_process.arma_generate_sample(ar=ar, ma=ma, nsample=n) \n",
    " \n",
    "fig = plt.figure(figsize=(8,6))\n",
    "fig.subplots_adjust(hspace=.5)\n",
    "\n",
    "ax1 = fig.add_subplot(311)\n",
    "fig = sm.graphics.tsa.plot_pacf(x1_t, lags=lag, ax=ax1, title=\"PACF AR(1)\", alpha=0.5)\n",
    "\n",
    "ax2 = fig.add_subplot(312)\n",
    "fig = sm.graphics.tsa.plot_pacf(ar2, lags=lag, ax=ax2, title=\"PACF AR(2)\")\n",
    "\n",
    "ax3 = fig.add_subplot(313)\n",
    "fig = sm.graphics.tsa.plot_pacf(ar3, lags=lag, ax=ax3, title=\"PACF AR(3)\")\n",
    "\n",
    "plt.show()    "
   ]
  },
  {
   "cell_type": "code",
   "execution_count": null,
   "metadata": {},
   "outputs": [],
   "source": []
  }
 ],
 "metadata": {
  "kernelspec": {
   "display_name": "mylab2env",
   "language": "python",
   "name": "mylab2env"
  },
  "language_info": {
   "codemirror_mode": {
    "name": "ipython",
    "version": 3
   },
   "file_extension": ".py",
   "mimetype": "text/x-python",
   "name": "python",
   "nbconvert_exporter": "python",
   "pygments_lexer": "ipython3",
   "version": "3.6.9"
  }
 },
 "nbformat": 4,
 "nbformat_minor": 4
}
